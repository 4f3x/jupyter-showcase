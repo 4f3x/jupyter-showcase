{
 "cells": [
  {
   "cell_type": "markdown",
   "metadata": {},
   "source": [
    "# Herzlich Willkommen\n",
    "\n",
    "Dies ist eine markdownfähige Textzelle in einem interaktivem Jupyter Notebook. Mit einem Klick auf `Run` oder der Tastenkombination `STRG-Enter` lassen sich die einzelnen Codeblöcke ausführen.\n",
    "\n",
    "*Viel Erfolg!*"
   ]
  },
  {
   "cell_type": "code",
   "execution_count": null,
   "outputs": [],
   "source": [
    "zahl = 11\n",
    "print(f\"Die Variable 'zahl' wurde mit dem Wert '{zahl}' initialisiert.\")"
   ],
   "metadata": {
    "collapsed": false,
    "pycharm": {
     "name": "#%%\n",
     "is_executing": false
    }
   }
  },
  {
   "cell_type": "code",
   "execution_count": null,
   "outputs": [],
   "source": [
    "modulo = zahl % 2\n",
    "print(f\"Sie ist ebenfalls im darauffolgenden Kontext referenzierbar: {modulo}\")"
   ],
   "metadata": {
    "collapsed": false,
    "pycharm": {
     "name": "#%%\n",
     "is_executing": false
    }
   }
  },
  {
   "cell_type": "markdown",
   "source": [
    "Des Weiteren können fortlaufend Bibliotheken eingebunden werden. Mit Hilfe von `matplotlib` können Daten beispielsweise visualisiert werden."
   ],
   "metadata": {
    "collapsed": false,
    "pycharm": {
     "name": "#%% md\n"
    }
   }
  },
  {
   "cell_type": "code",
   "execution_count": null,
   "outputs": [],
   "source": [
    "import matplotlib.pyplot as plt"
   ],
   "metadata": {
    "collapsed": false,
    "pycharm": {
     "name": "#%%\n",
     "is_executing": false
    }
   }
  },
  {
   "cell_type": "markdown",
   "source": [
    "Die Variable `anzahl_werte` gibt an, wie viele Werte geplottet werden sollen. `y` stellt die darzustellenden Werte entlang der y-Achse dar, wobei `x` die Werte entlang der x-Achse enthält."
   ],
   "metadata": {
    "collapsed": false,
    "pycharm": {
     "name": "#%% md\n"
    }
   }
  },
  {
   "cell_type": "code",
   "execution_count": null,
   "outputs": [],
   "source": [
    "anzahl_werte = 50\n",
    "y = [pow(x, 2) for x in range(anzahl_werte)]\n",
    "x = list(range(anzahl_werte))"
   ],
   "metadata": {
    "collapsed": false,
    "pycharm": {
     "name": "#%%\n",
     "is_executing": false
    }
   }
  },
  {
   "cell_type": "markdown",
   "source": [
    "Die nachfolgende Zelle initialisiert ein Objekt, welches anhand der `plot`-Funktion die zu visualisierenden Daten entgegennimmt und direkt in Jupyter darstellt."
   ],
   "metadata": {
    "collapsed": false,
    "pycharm": {
     "name": "#%% md\n"
    }
   }
  },
  {
   "cell_type": "code",
   "execution_count": null,
   "outputs": [],
   "source": [
    "fig, ax = plt.subplots()\n",
    "ax.plot(x, y)"
   ],
   "metadata": {
    "collapsed": false,
    "pycharm": {
     "name": "#%%\n",
     "is_executing": false
    }
   }
  },
  {
   "cell_type": "markdown",
   "source": [
    "Des Weiteren können mit Hilfe von Assertions und Exception Handlings Werte von Variablen oder Funktionsausgaben überprüft werden."
   ],
   "metadata": {
    "collapsed": false,
    "pycharm": {
     "name": "#%% md\n"
    }
   }
  },
  {
   "cell_type": "code",
   "execution_count": null,
   "outputs": [],
   "source": [
    "ergebnis = 43 - 2"
   ],
   "metadata": {
    "collapsed": false,
    "pycharm": {
     "name": "#%%\n",
     "is_executing": false
    }
   }
  },
  {
   "cell_type": "markdown",
   "source": [
    "In dem `try`-Block wird, insofern der Wert nicht wie erwartet 42 entspricht, ein Fehler geworfen. Hiermit können beispielsweise Software Tests realisiert werden."
   ],
   "metadata": {
    "collapsed": false,
    "pycharm": {
     "name": "#%% md\n"
    }
   }
  },
  {
   "cell_type": "code",
   "execution_count": null,
   "metadata": {
    "pycharm": {
     "is_executing": false
    }
   },
   "outputs": [],
   "source": [
    "try:\n",
    "    assert ergebnis == 42\n",
    "    print('Das Ergebnis ist korrekt!')\n",
    "except AssertionError:\n",
    "    print(f'Das Ergebnis ist nicht korrekt: {ergebnis} anstatt von dem erwarteten Ergebnis 42')"
   ]
  }
 ],
 "metadata": {
  "kernelspec": {
   "name": "pycharm-ec05cda0",
   "language": "python",
   "display_name": "PyCharm (jupyter-showcase)"
  },
  "language_info": {
   "codemirror_mode": {
    "name": "ipython",
    "version": 3
   },
   "file_extension": ".py",
   "mimetype": "text/x-python",
   "name": "python",
   "nbconvert_exporter": "python",
   "pygments_lexer": "ipython3",
   "version": "3.7.6"
  },
  "pycharm": {
   "stem_cell": {
    "cell_type": "raw",
    "source": [],
    "metadata": {
     "collapsed": false
    }
   }
  }
 },
 "nbformat": 4,
 "nbformat_minor": 4
}